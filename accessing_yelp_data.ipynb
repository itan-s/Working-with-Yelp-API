{
 "cells": [
  {
   "cell_type": "markdown",
   "id": "40188fb2-fb3f-4e5e-878b-c441fda5aa63",
   "metadata": {},
   "source": [
    "# Accessing Yelp API\n",
    "\n",
    "Kristan Bryan Simbulan"
   ]
  },
  {
   "cell_type": "markdown",
   "id": "6ec788e3-bdd2-4cac-a711-9943224ff1d4",
   "metadata": {},
   "source": [
    "## Initialization"
   ]
  },
  {
   "cell_type": "code",
   "execution_count": 1,
   "id": "406e3f5b-bad6-4e00-8daa-93f373ab6739",
   "metadata": {
    "scrolled": true
   },
   "outputs": [
    {
     "name": "stdout",
     "output_type": "stream",
     "text": [
      "Requirement already satisfied: yelpapi in /Users/kristansimbulan/opt/anaconda3/envs/dojo-env/lib/python3.10/site-packages (2.5.1)\n",
      "Requirement already satisfied: requests in /Users/kristansimbulan/opt/anaconda3/envs/dojo-env/lib/python3.10/site-packages (from yelpapi) (2.29.0)\n",
      "Requirement already satisfied: certifi>=2017.4.17 in /Users/kristansimbulan/opt/anaconda3/envs/dojo-env/lib/python3.10/site-packages (from requests->yelpapi) (2023.5.7)\n",
      "Requirement already satisfied: idna<4,>=2.5 in /Users/kristansimbulan/opt/anaconda3/envs/dojo-env/lib/python3.10/site-packages (from requests->yelpapi) (3.4)\n",
      "Requirement already satisfied: charset-normalizer<4,>=2 in /Users/kristansimbulan/opt/anaconda3/envs/dojo-env/lib/python3.10/site-packages (from requests->yelpapi) (2.0.4)\n",
      "Requirement already satisfied: urllib3<1.27,>=1.21.1 in /Users/kristansimbulan/opt/anaconda3/envs/dojo-env/lib/python3.10/site-packages (from requests->yelpapi) (1.26.15)\n"
     ]
    }
   ],
   "source": [
    "# Install Yelp API\n",
    "!pip install yelpapi"
   ]
  },
  {
   "cell_type": "code",
   "execution_count": 2,
   "id": "e3407712-8c7e-42d1-be73-5ef058a0665c",
   "metadata": {},
   "outputs": [],
   "source": [
    "# Import and Load Packages\n",
    "import json, os\n",
    "import pandas as pd\n",
    "from yelpapi import YelpAPI"
   ]
  },
  {
   "cell_type": "code",
   "execution_count": 3,
   "id": "1a9f84a4-146c-4d81-85ef-29ae9b1fdd52",
   "metadata": {},
   "outputs": [
    {
     "data": {
      "text/plain": [
       "dict_keys(['client-id', 'api-key'])"
      ]
     },
     "execution_count": 3,
     "metadata": {},
     "output_type": "execute_result"
    }
   ],
   "source": [
    "# Load API credentials\n",
    "with open('/Users/kristansimbulan/.secret/yelp_api.json') as f: #change the path to match YOUR path!!\n",
    "    login = json.load(f)\n",
    "login.keys()"
   ]
  },
  {
   "cell_type": "code",
   "execution_count": 4,
   "id": "95afb844-78c8-45d5-ac6c-de70304d469e",
   "metadata": {},
   "outputs": [
    {
     "data": {
      "text/plain": [
       "<yelpapi.yelpapi.YelpAPI at 0x1666b1540>"
      ]
     },
     "execution_count": 4,
     "metadata": {},
     "output_type": "execute_result"
    }
   ],
   "source": [
    "# Instantiate Yelp API variable\n",
    "yelp_api = YelpAPI(login['api-key'], timeout_s=5.0)\n",
    "yelp_api"
   ]
  },
  {
   "cell_type": "markdown",
   "id": "8b9f41c7-5028-4315-aa37-333a9446caaa",
   "metadata": {},
   "source": [
    "## Accessing data from Yelp"
   ]
  },
  {
   "cell_type": "code",
   "execution_count": 5,
   "id": "bf20bb33-145b-4603-89de-a35cf671edf7",
   "metadata": {},
   "outputs": [],
   "source": [
    "# Intitiate 'location' and 'term' variables containing search keywords for location and term, respectively\n",
    "Location = \"New York\"\n",
    "Term = \"Pasta\""
   ]
  },
  {
   "cell_type": "code",
   "execution_count": 6,
   "id": "0ef00b95-afe5-4333-8731-718e183f419d",
   "metadata": {},
   "outputs": [
    {
     "data": {
      "text/plain": [
       "dict_keys(['businesses', 'total', 'region'])"
      ]
     },
     "execution_count": 6,
     "metadata": {},
     "output_type": "execute_result"
    }
   ],
   "source": [
    "# use the yelp_api variable's search_query method to perform API call\n",
    "results_p1 = yelp_api.search_query(location = Location,\n",
    "                                term = Term)\n",
    "\n",
    "results_p1.keys()"
   ]
  },
  {
   "cell_type": "code",
   "execution_count": 7,
   "id": "7b6bce9f-bcdb-47e0-8400-87c7c83cc39d",
   "metadata": {},
   "outputs": [
    {
     "data": {
      "text/plain": [
       "dict_keys(['businesses', 'total', 'region'])"
      ]
     },
     "execution_count": 7,
     "metadata": {},
     "output_type": "execute_result"
    }
   ],
   "source": [
    "# use the yelp_api variable's search_query method to perform API call\n",
    "results_p2 = yelp_api.search_query(location = Location,\n",
    "                                term = Term,\n",
    "                                offset = 20)\n",
    "\n",
    "results_p2.keys()"
   ]
  },
  {
   "cell_type": "code",
   "execution_count": 8,
   "id": "a54cc1a1-f14e-4d5d-9868-99094ab5e7f5",
   "metadata": {},
   "outputs": [],
   "source": [
    "# Convert business results into DataFrames\n",
    "biz_p1 = pd.DataFrame(results_p1['businesses'])\n",
    "biz_p2 = pd.DataFrame(results_p2['businesses'])"
   ]
  },
  {
   "cell_type": "code",
   "execution_count": 9,
   "id": "54d4abe0-5b73-4917-a19c-c800b5d78986",
   "metadata": {},
   "outputs": [
    {
     "data": {
      "text/html": [
       "<div>\n",
       "<style scoped>\n",
       "    .dataframe tbody tr th:only-of-type {\n",
       "        vertical-align: middle;\n",
       "    }\n",
       "\n",
       "    .dataframe tbody tr th {\n",
       "        vertical-align: top;\n",
       "    }\n",
       "\n",
       "    .dataframe thead th {\n",
       "        text-align: right;\n",
       "    }\n",
       "</style>\n",
       "<table border=\"1\" class=\"dataframe\">\n",
       "  <thead>\n",
       "    <tr style=\"text-align: right;\">\n",
       "      <th></th>\n",
       "      <th>id</th>\n",
       "      <th>alias</th>\n",
       "      <th>name</th>\n",
       "      <th>image_url</th>\n",
       "      <th>is_closed</th>\n",
       "      <th>url</th>\n",
       "      <th>review_count</th>\n",
       "      <th>categories</th>\n",
       "      <th>rating</th>\n",
       "      <th>coordinates</th>\n",
       "      <th>transactions</th>\n",
       "      <th>price</th>\n",
       "      <th>location</th>\n",
       "      <th>phone</th>\n",
       "      <th>display_phone</th>\n",
       "      <th>distance</th>\n",
       "    </tr>\n",
       "  </thead>\n",
       "  <tbody>\n",
       "    <tr>\n",
       "      <th>0</th>\n",
       "      <td>16ZnHpuaaBt92XWeJHCC5A</td>\n",
       "      <td>olio-e-più-new-york-7</td>\n",
       "      <td>Olio e Più</td>\n",
       "      <td>https://s3-media4.fl.yelpcdn.com/bphoto/CUpPgz...</td>\n",
       "      <td>False</td>\n",
       "      <td>https://www.yelp.com/biz/olio-e-pi%C3%B9-new-y...</td>\n",
       "      <td>5305</td>\n",
       "      <td>[{'alias': 'pizza', 'title': 'Pizza'}, {'alias...</td>\n",
       "      <td>4.5</td>\n",
       "      <td>{'latitude': 40.733798036104304, 'longitude': ...</td>\n",
       "      <td>[pickup, delivery]</td>\n",
       "      <td>$$</td>\n",
       "      <td>{'address1': '3 Greenwich Ave', 'address2': No...</td>\n",
       "      <td>+12122436546</td>\n",
       "      <td>(212) 243-6546</td>\n",
       "      <td>3186.380498</td>\n",
       "    </tr>\n",
       "    <tr>\n",
       "      <th>1</th>\n",
       "      <td>WG639VkTjmK5dzydd1BBJA</td>\n",
       "      <td>rubirosa-new-york-2</td>\n",
       "      <td>Rubirosa</td>\n",
       "      <td>https://s3-media3.fl.yelpcdn.com/bphoto/l0Phrn...</td>\n",
       "      <td>False</td>\n",
       "      <td>https://www.yelp.com/biz/rubirosa-new-york-2?a...</td>\n",
       "      <td>3287</td>\n",
       "      <td>[{'alias': 'italian', 'title': 'Italian'}, {'a...</td>\n",
       "      <td>4.3</td>\n",
       "      <td>{'latitude': 40.722766, 'longitude': -73.996233}</td>\n",
       "      <td>[pickup]</td>\n",
       "      <td>$$</td>\n",
       "      <td>{'address1': '235 Mulberry St', 'address2': ''...</td>\n",
       "      <td>+12129650500</td>\n",
       "      <td>(212) 965-0500</td>\n",
       "      <td>1932.946770</td>\n",
       "    </tr>\n",
       "    <tr>\n",
       "      <th>2</th>\n",
       "      <td>OCTiJwvjoK81WoDwsTkFvA</td>\n",
       "      <td>paesano-of-mulberry-street-new-york</td>\n",
       "      <td>Paesano of Mulberry Street</td>\n",
       "      <td>https://s3-media2.fl.yelpcdn.com/bphoto/yN9ARC...</td>\n",
       "      <td>False</td>\n",
       "      <td>https://www.yelp.com/biz/paesano-of-mulberry-s...</td>\n",
       "      <td>1496</td>\n",
       "      <td>[{'alias': 'italian', 'title': 'Italian'}, {'a...</td>\n",
       "      <td>4.1</td>\n",
       "      <td>{'latitude': 40.718554, 'longitude': -73.997447}</td>\n",
       "      <td>[pickup, restaurant_reservation, delivery]</td>\n",
       "      <td>$$</td>\n",
       "      <td>{'address1': '136 Mulberry St', 'address2': ''...</td>\n",
       "      <td>+12129651188</td>\n",
       "      <td>(212) 965-1188</td>\n",
       "      <td>1481.706653</td>\n",
       "    </tr>\n",
       "  </tbody>\n",
       "</table>\n",
       "</div>"
      ],
      "text/plain": [
       "                       id                                alias  \\\n",
       "0  16ZnHpuaaBt92XWeJHCC5A                olio-e-più-new-york-7   \n",
       "1  WG639VkTjmK5dzydd1BBJA                  rubirosa-new-york-2   \n",
       "2  OCTiJwvjoK81WoDwsTkFvA  paesano-of-mulberry-street-new-york   \n",
       "\n",
       "                         name  \\\n",
       "0                  Olio e Più   \n",
       "1                    Rubirosa   \n",
       "2  Paesano of Mulberry Street   \n",
       "\n",
       "                                           image_url  is_closed  \\\n",
       "0  https://s3-media4.fl.yelpcdn.com/bphoto/CUpPgz...      False   \n",
       "1  https://s3-media3.fl.yelpcdn.com/bphoto/l0Phrn...      False   \n",
       "2  https://s3-media2.fl.yelpcdn.com/bphoto/yN9ARC...      False   \n",
       "\n",
       "                                                 url  review_count  \\\n",
       "0  https://www.yelp.com/biz/olio-e-pi%C3%B9-new-y...          5305   \n",
       "1  https://www.yelp.com/biz/rubirosa-new-york-2?a...          3287   \n",
       "2  https://www.yelp.com/biz/paesano-of-mulberry-s...          1496   \n",
       "\n",
       "                                          categories  rating  \\\n",
       "0  [{'alias': 'pizza', 'title': 'Pizza'}, {'alias...     4.5   \n",
       "1  [{'alias': 'italian', 'title': 'Italian'}, {'a...     4.3   \n",
       "2  [{'alias': 'italian', 'title': 'Italian'}, {'a...     4.1   \n",
       "\n",
       "                                         coordinates  \\\n",
       "0  {'latitude': 40.733798036104304, 'longitude': ...   \n",
       "1   {'latitude': 40.722766, 'longitude': -73.996233}   \n",
       "2   {'latitude': 40.718554, 'longitude': -73.997447}   \n",
       "\n",
       "                                 transactions price  \\\n",
       "0                          [pickup, delivery]    $$   \n",
       "1                                    [pickup]    $$   \n",
       "2  [pickup, restaurant_reservation, delivery]    $$   \n",
       "\n",
       "                                            location         phone  \\\n",
       "0  {'address1': '3 Greenwich Ave', 'address2': No...  +12122436546   \n",
       "1  {'address1': '235 Mulberry St', 'address2': ''...  +12129650500   \n",
       "2  {'address1': '136 Mulberry St', 'address2': ''...  +12129651188   \n",
       "\n",
       "    display_phone     distance  \n",
       "0  (212) 243-6546  3186.380498  \n",
       "1  (212) 965-0500  1932.946770  \n",
       "2  (212) 965-1188  1481.706653  "
      ]
     },
     "metadata": {},
     "output_type": "display_data"
    },
    {
     "data": {
      "text/html": [
       "<div>\n",
       "<style scoped>\n",
       "    .dataframe tbody tr th:only-of-type {\n",
       "        vertical-align: middle;\n",
       "    }\n",
       "\n",
       "    .dataframe tbody tr th {\n",
       "        vertical-align: top;\n",
       "    }\n",
       "\n",
       "    .dataframe thead th {\n",
       "        text-align: right;\n",
       "    }\n",
       "</style>\n",
       "<table border=\"1\" class=\"dataframe\">\n",
       "  <thead>\n",
       "    <tr style=\"text-align: right;\">\n",
       "      <th></th>\n",
       "      <th>id</th>\n",
       "      <th>alias</th>\n",
       "      <th>name</th>\n",
       "      <th>image_url</th>\n",
       "      <th>is_closed</th>\n",
       "      <th>url</th>\n",
       "      <th>review_count</th>\n",
       "      <th>categories</th>\n",
       "      <th>rating</th>\n",
       "      <th>coordinates</th>\n",
       "      <th>transactions</th>\n",
       "      <th>price</th>\n",
       "      <th>location</th>\n",
       "      <th>phone</th>\n",
       "      <th>display_phone</th>\n",
       "      <th>distance</th>\n",
       "    </tr>\n",
       "  </thead>\n",
       "  <tbody>\n",
       "    <tr>\n",
       "      <th>37</th>\n",
       "      <td>h37t9rA06Sr4EetJjKrfzw</td>\n",
       "      <td>don-angie-new-york</td>\n",
       "      <td>Don Angie</td>\n",
       "      <td>https://s3-media2.fl.yelpcdn.com/bphoto/onJX6_...</td>\n",
       "      <td>False</td>\n",
       "      <td>https://www.yelp.com/biz/don-angie-new-york?ad...</td>\n",
       "      <td>845</td>\n",
       "      <td>[{'alias': 'italian', 'title': 'Italian'}, {'a...</td>\n",
       "      <td>4.5</td>\n",
       "      <td>{'latitude': 40.73778, 'longitude': -74.00197}</td>\n",
       "      <td>[delivery]</td>\n",
       "      <td>$$$</td>\n",
       "      <td>{'address1': '103 Greenwich Ave', 'address2': ...</td>\n",
       "      <td>+12128898884</td>\n",
       "      <td>(212) 889-8884</td>\n",
       "      <td>3657.076882</td>\n",
       "    </tr>\n",
       "    <tr>\n",
       "      <th>38</th>\n",
       "      <td>QQpQujXQGbZBK6BeAokzDA</td>\n",
       "      <td>pomp-and-circumstance-brooklyn</td>\n",
       "      <td>Pomp and Circumstance</td>\n",
       "      <td>https://s3-media1.fl.yelpcdn.com/bphoto/SmGYpr...</td>\n",
       "      <td>False</td>\n",
       "      <td>https://www.yelp.com/biz/pomp-and-circumstance...</td>\n",
       "      <td>167</td>\n",
       "      <td>[{'alias': 'italian', 'title': 'Italian'}, {'a...</td>\n",
       "      <td>4.9</td>\n",
       "      <td>{'latitude': 40.71427259634444, 'longitude': -...</td>\n",
       "      <td>[pickup, delivery]</td>\n",
       "      <td>$$$</td>\n",
       "      <td>{'address1': '577 Lorimer St', 'address2': '',...</td>\n",
       "      <td>+17183874861</td>\n",
       "      <td>(718) 387-4861</td>\n",
       "      <td>3889.917598</td>\n",
       "    </tr>\n",
       "    <tr>\n",
       "      <th>39</th>\n",
       "      <td>DynFEEWtMX76qeqviUbOdA</td>\n",
       "      <td>mille-nonne-new-york-2</td>\n",
       "      <td>Mille Nonne</td>\n",
       "      <td>https://s3-media2.fl.yelpcdn.com/bphoto/Ykxj0h...</td>\n",
       "      <td>False</td>\n",
       "      <td>https://www.yelp.com/biz/mille-nonne-new-york-...</td>\n",
       "      <td>66</td>\n",
       "      <td>[{'alias': 'italian', 'title': 'Italian'}]</td>\n",
       "      <td>4.7</td>\n",
       "      <td>{'latitude': 40.717949, 'longitude': -73.988181}</td>\n",
       "      <td>[pickup, delivery]</td>\n",
       "      <td>NaN</td>\n",
       "      <td>{'address1': '88 Essex St', 'address2': 'Ste 4...</td>\n",
       "      <td>+16466698957</td>\n",
       "      <td>(646) 669-8957</td>\n",
       "      <td>1491.810113</td>\n",
       "    </tr>\n",
       "  </tbody>\n",
       "</table>\n",
       "</div>"
      ],
      "text/plain": [
       "                        id                           alias  \\\n",
       "37  h37t9rA06Sr4EetJjKrfzw              don-angie-new-york   \n",
       "38  QQpQujXQGbZBK6BeAokzDA  pomp-and-circumstance-brooklyn   \n",
       "39  DynFEEWtMX76qeqviUbOdA          mille-nonne-new-york-2   \n",
       "\n",
       "                     name                                          image_url  \\\n",
       "37              Don Angie  https://s3-media2.fl.yelpcdn.com/bphoto/onJX6_...   \n",
       "38  Pomp and Circumstance  https://s3-media1.fl.yelpcdn.com/bphoto/SmGYpr...   \n",
       "39            Mille Nonne  https://s3-media2.fl.yelpcdn.com/bphoto/Ykxj0h...   \n",
       "\n",
       "    is_closed                                                url  \\\n",
       "37      False  https://www.yelp.com/biz/don-angie-new-york?ad...   \n",
       "38      False  https://www.yelp.com/biz/pomp-and-circumstance...   \n",
       "39      False  https://www.yelp.com/biz/mille-nonne-new-york-...   \n",
       "\n",
       "    review_count                                         categories  rating  \\\n",
       "37           845  [{'alias': 'italian', 'title': 'Italian'}, {'a...     4.5   \n",
       "38           167  [{'alias': 'italian', 'title': 'Italian'}, {'a...     4.9   \n",
       "39            66         [{'alias': 'italian', 'title': 'Italian'}]     4.7   \n",
       "\n",
       "                                          coordinates        transactions  \\\n",
       "37     {'latitude': 40.73778, 'longitude': -74.00197}          [delivery]   \n",
       "38  {'latitude': 40.71427259634444, 'longitude': -...  [pickup, delivery]   \n",
       "39   {'latitude': 40.717949, 'longitude': -73.988181}  [pickup, delivery]   \n",
       "\n",
       "   price                                           location         phone  \\\n",
       "37   $$$  {'address1': '103 Greenwich Ave', 'address2': ...  +12128898884   \n",
       "38   $$$  {'address1': '577 Lorimer St', 'address2': '',...  +17183874861   \n",
       "39   NaN  {'address1': '88 Essex St', 'address2': 'Ste 4...  +16466698957   \n",
       "\n",
       "     display_phone     distance  \n",
       "37  (212) 889-8884  3657.076882  \n",
       "38  (718) 387-4861  3889.917598  \n",
       "39  (646) 669-8957  1491.810113  "
      ]
     },
     "metadata": {},
     "output_type": "display_data"
    }
   ],
   "source": [
    "# Concatenate the two dataframes\n",
    "businesses = pd.concat([biz_p1, biz_p2],\n",
    "                      ignore_index=True)\n",
    "display(businesses.head(3), businesses.tail(3))"
   ]
  },
  {
   "cell_type": "code",
   "execution_count": 14,
   "id": "799a1e2e-5c5b-434f-ae1c-f8048b361827",
   "metadata": {},
   "outputs": [],
   "source": [
    "# Convert businesses dataframe to JSON\n",
    "businesses_json = businesses.to_json(orient='records')"
   ]
  },
  {
   "cell_type": "code",
   "execution_count": 10,
   "id": "e972cb6b-ee72-47d1-9122-4fed030b4cfa",
   "metadata": {},
   "outputs": [
    {
     "name": "stdout",
     "output_type": "stream",
     "text": [
      "data will be saved to: /Users/kristansimbulan/Documents/GitHub/Working-with-Yelp-API/yelp-search-new-york-pasta.json\n"
     ]
    }
   ],
   "source": [
    "## Specify folder for saving data\n",
    "JSON_file = r\"/Users/kristansimbulan/Documents/GitHub/Working-with-Yelp-API/yelp-search-new-york-pasta.json\"\n",
    "print(f'data will be saved to: {JSON_file}')"
   ]
  },
  {
   "cell_type": "code",
   "execution_count": 11,
   "id": "6802ec12-93df-44da-a767-511aedd3e5f9",
   "metadata": {},
   "outputs": [
    {
     "name": "stdout",
     "output_type": "stream",
     "text": [
      "[i] /Users/kristansimbulan/Documents/GitHub/Working-with-Yelp-API/yelp-search-new-york-pasta.json already exists.\n"
     ]
    }
   ],
   "source": [
    "## Check if JSON_FILE exists\n",
    "file_exists = os.path.isfile(JSON_file)\n",
    "\n",
    "## If it does not exist:\n",
    "if file_exists == False:\n",
    "    \n",
    "    ## CREATE ANY NEEDED FOLDERS\n",
    "    # Get the Folder Name only\n",
    "    folder = os.path.dirname(JSON_file)\n",
    "    \n",
    "    ## If JSON_FILE included a folder:\n",
    "    if len(folder) > 0:\n",
    "        # create the folder\n",
    "        os.makedirs(folder, exist_ok = True)\n",
    "        \n",
    "    ## INFORM USER AND SAVE EMPTY LIST\n",
    "    print(f'[i] {folder_path} not found. Saving empty list to file.')\n",
    "    \n",
    "    ## save the first page of results\n",
    "    with open(folder_path, 'w') as file:\n",
    "        json.dump([], file)\n",
    "        \n",
    "## If it exists, inform user\n",
    "else:\n",
    "    print(f'[i] {JSON_file} already exists.')"
   ]
  },
  {
   "cell_type": "code",
   "execution_count": 15,
   "id": "bc540bf4-767e-4415-a79f-e732b9a1016d",
   "metadata": {},
   "outputs": [],
   "source": [
    "# save the business data to the JSON file\n",
    "with open(JSON_file, 'w') as file:\n",
    "    json.dump(businesses_json, file)"
   ]
  },
  {
   "cell_type": "code",
   "execution_count": null,
   "id": "74d513e8-87ef-463e-bbce-1fc55bfbf0c2",
   "metadata": {},
   "outputs": [],
   "source": []
  }
 ],
 "metadata": {
  "kernelspec": {
   "display_name": "Python (dojo-env)",
   "language": "python",
   "name": "dojo-env"
  },
  "language_info": {
   "codemirror_mode": {
    "name": "ipython",
    "version": 3
   },
   "file_extension": ".py",
   "mimetype": "text/x-python",
   "name": "python",
   "nbconvert_exporter": "python",
   "pygments_lexer": "ipython3",
   "version": "3.10.10"
  }
 },
 "nbformat": 4,
 "nbformat_minor": 5
}
