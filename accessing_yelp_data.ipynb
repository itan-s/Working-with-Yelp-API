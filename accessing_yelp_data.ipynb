{
 "cells": [
  {
   "cell_type": "markdown",
   "id": "40188fb2-fb3f-4e5e-878b-c441fda5aa63",
   "metadata": {},
   "source": [
    "# Accessing Yelp API\n",
    "\n",
    "Kristan Bryan Simbulan"
   ]
  },
  {
   "cell_type": "markdown",
   "id": "6ec788e3-bdd2-4cac-a711-9943224ff1d4",
   "metadata": {},
   "source": [
    "## Initialization"
   ]
  },
  {
   "cell_type": "code",
   "execution_count": 1,
   "id": "406e3f5b-bad6-4e00-8daa-93f373ab6739",
   "metadata": {
    "scrolled": true
   },
   "outputs": [
    {
     "name": "stdout",
     "output_type": "stream",
     "text": [
      "Requirement already satisfied: yelpapi in /Users/kristansimbulan/opt/anaconda3/envs/dojo-env/lib/python3.10/site-packages (2.5.1)\n",
      "Requirement already satisfied: requests in /Users/kristansimbulan/opt/anaconda3/envs/dojo-env/lib/python3.10/site-packages (from yelpapi) (2.29.0)\n",
      "Requirement already satisfied: idna<4,>=2.5 in /Users/kristansimbulan/opt/anaconda3/envs/dojo-env/lib/python3.10/site-packages (from requests->yelpapi) (3.4)\n",
      "Requirement already satisfied: urllib3<1.27,>=1.21.1 in /Users/kristansimbulan/opt/anaconda3/envs/dojo-env/lib/python3.10/site-packages (from requests->yelpapi) (1.26.15)\n",
      "Requirement already satisfied: charset-normalizer<4,>=2 in /Users/kristansimbulan/opt/anaconda3/envs/dojo-env/lib/python3.10/site-packages (from requests->yelpapi) (2.0.4)\n",
      "Requirement already satisfied: certifi>=2017.4.17 in /Users/kristansimbulan/opt/anaconda3/envs/dojo-env/lib/python3.10/site-packages (from requests->yelpapi) (2023.5.7)\n",
      "Requirement already satisfied: tqdm in /Users/kristansimbulan/opt/anaconda3/envs/dojo-env/lib/python3.10/site-packages (4.65.0)\n"
     ]
    }
   ],
   "source": [
    "# Install Yelp API\n",
    "!pip install yelpapi\n",
    "\n",
    "# Install tmdbsimple (only need to run once)\n",
    "!pip install tqdm"
   ]
  },
  {
   "cell_type": "code",
   "execution_count": 2,
   "id": "e3407712-8c7e-42d1-be73-5ef058a0665c",
   "metadata": {},
   "outputs": [],
   "source": [
    "# Standard Imports\n",
    "import numpy as np\n",
    "import pandas as pd\n",
    "import matplotlib.pyplot as plt\n",
    "import seaborn as sns\n",
    "\n",
    "# Additional Imports\n",
    "import os, json, math, time\n",
    "from yelpapi import YelpAPI\n",
    "from tqdm.notebook import tqdm_notebook"
   ]
  },
  {
   "cell_type": "code",
   "execution_count": 3,
   "id": "1a9f84a4-146c-4d81-85ef-29ae9b1fdd52",
   "metadata": {},
   "outputs": [
    {
     "data": {
      "text/plain": [
       "dict_keys(['client-id', 'api-key'])"
      ]
     },
     "execution_count": 3,
     "metadata": {},
     "output_type": "execute_result"
    }
   ],
   "source": [
    "# Load API credentials\n",
    "with open('/Users/kristansimbulan/.secret/yelp_api.json') as f: #change the path to match YOUR path!!\n",
    "    login = json.load(f)\n",
    "login.keys()"
   ]
  },
  {
   "cell_type": "code",
   "execution_count": 4,
   "id": "95afb844-78c8-45d5-ac6c-de70304d469e",
   "metadata": {},
   "outputs": [
    {
     "data": {
      "text/plain": [
       "<yelpapi.yelpapi.YelpAPI at 0x1725cd450>"
      ]
     },
     "execution_count": 4,
     "metadata": {},
     "output_type": "execute_result"
    }
   ],
   "source": [
    "# Instantiate Yelp API variable\n",
    "yelp_api = YelpAPI(login['api-key'], timeout_s=5.0)\n",
    "yelp_api"
   ]
  },
  {
   "cell_type": "code",
   "execution_count": 5,
   "id": "6802ec12-93df-44da-a767-511aedd3e5f9",
   "metadata": {},
   "outputs": [],
   "source": [
    "def create_json_file(JSON_FILE,  delete_if_exists=False):\n",
    "    \n",
    "    ## Check if JSON_FILE exists\n",
    "    file_exists = os.path.isfile(JSON_FILE)\n",
    "    \n",
    "    ## If it DOES exist:\n",
    "    if file_exists == True:\n",
    "        \n",
    "        ## Check if user wants to delete if exists\n",
    "        if delete_if_exists==True:\n",
    "            \n",
    "            print(f\"[!] {JSON_FILE} already exists. Deleting previous file...\")\n",
    "            ## delete file and confirm it no longer exits.\n",
    "            os.remove(JSON_FILE)\n",
    "            ## Recursive call to function after old file deleted\n",
    "            create_json_file(JSON_FILE,delete_if_exists=False)\n",
    "        else:\n",
    "            print(f\"[i] {JSON_FILE} already exists.\")            \n",
    "            \n",
    "            \n",
    "    ## If it does NOT exist:\n",
    "    else:\n",
    "        \n",
    "        ## INFORM USER AND SAVE EMPTY LIST\n",
    "        print(f\"[i] {JSON_FILE} not found. Saving empty list to new file.\")\n",
    "        \n",
    "        ## CREATE ANY NEEDED FOLDERS\n",
    "        # Get the Folder Name only\n",
    "        folder = os.path.dirname(JSON_FILE)\n",
    "        \n",
    "        ## If JSON_FILE included a folder:\n",
    "        if len(folder)>0:\n",
    "            # create the folder\n",
    "            os.makedirs(folder,exist_ok=True)\n",
    "        ## Save empty list to start the json file\n",
    "        with open(JSON_FILE,'w') as f:\n",
    "            json.dump([],f)  "
   ]
  },
  {
   "cell_type": "markdown",
   "id": "8b9f41c7-5028-4315-aa37-333a9446caaa",
   "metadata": {},
   "source": [
    "## Accessing data from Yelp"
   ]
  },
  {
   "cell_type": "code",
   "execution_count": 6,
   "id": "bf20bb33-145b-4603-89de-a35cf671edf7",
   "metadata": {},
   "outputs": [],
   "source": [
    "# Intitiate 'location' and 'term' variables containing search keywords for location and term, respectively\n",
    "LOCATION = \"New York\"\n",
    "TERM = \"Pasta\""
   ]
  },
  {
   "cell_type": "code",
   "execution_count": 7,
   "id": "e972cb6b-ee72-47d1-9122-4fed030b4cfa",
   "metadata": {},
   "outputs": [
    {
     "name": "stdout",
     "output_type": "stream",
     "text": [
      "data will be saved to: /Users/kristansimbulan/Documents/GitHub/Working-with-Yelp-API/yelp-search-new-york-pasta.json\n"
     ]
    }
   ],
   "source": [
    "## Specify JSON file for saving data\n",
    "JSON_FILE = r\"/Users/kristansimbulan/Documents/GitHub/Working-with-Yelp-API/yelp-search-new-york-pasta.json\"\n",
    "print(f'data will be saved to: {JSON_FILE}')"
   ]
  },
  {
   "cell_type": "code",
   "execution_count": 8,
   "id": "44659a4e-5f85-4156-a19c-95e4df0c3e05",
   "metadata": {},
   "outputs": [
    {
     "name": "stdout",
     "output_type": "stream",
     "text": [
      "[!] /Users/kristansimbulan/Documents/GitHub/Working-with-Yelp-API/yelp-search-new-york-pasta.json already exists. Deleting previous file...\n",
      "[i] /Users/kristansimbulan/Documents/GitHub/Working-with-Yelp-API/yelp-search-new-york-pasta.json not found. Saving empty list to new file.\n",
      "- 0 previous results found.\n"
     ]
    },
    {
     "data": {
      "text/plain": [
       "530"
      ]
     },
     "execution_count": 8,
     "metadata": {},
     "output_type": "execute_result"
    }
   ],
   "source": [
    "## Create a new empty json file (delete the previous if it exists)\n",
    "create_json_file(JSON_FILE, delete_if_exists=True)\n",
    "## Load previous results and use len of results for offset\n",
    "with open(JSON_FILE,'r') as f:\n",
    "    previous_results = json.load(f)\n",
    "    \n",
    "## set offset based on previous results\n",
    "n_results = len(previous_results)\n",
    "print(f'- {n_results} previous results found.')\n",
    "# use our yelp_api variable's search_query method to perform our API call\n",
    "results = yelp_api.search_query(location=LOCATION,\n",
    "                                term=TERM,\n",
    "                               offset=n_results)\n",
    "## How many results total?\n",
    "total_results = results['total']\n",
    "## How many did we get the details for?\n",
    "results_per_page = len(results['businesses'])\n",
    "# Use math.ceil to round up for the total number of pages of results.\n",
    "n_pages = math.ceil((results['total']-n_results)/ results_per_page)\n",
    "n_pages"
   ]
  },
  {
   "cell_type": "code",
   "execution_count": 9,
   "id": "1165bb0b-45e0-412c-acb6-68376e00dd2b",
   "metadata": {},
   "outputs": [
    {
     "data": {
      "application/vnd.jupyter.widget-view+json": {
       "model_id": "e7136cd551a74b5c84fc34a35ca1c166",
       "version_major": 2,
       "version_minor": 0
      },
      "text/plain": [
       "  0%|          | 0/530 [00:00<?, ?it/s]"
      ]
     },
     "metadata": {},
     "output_type": "display_data"
    },
    {
     "name": "stdout",
     "output_type": "stream",
     "text": [
      "Exceeded 1000 api calls. Stopping loop.\n"
     ]
    }
   ],
   "source": [
    "for i in tqdm_notebook( range(1,n_pages+1)):\n",
    "    \n",
    "    ## Read in results in progress file and check the length\n",
    "    with open(JSON_FILE, 'r') as f:\n",
    "        previous_results = json.load(f)\n",
    "    ## save number of results for to use as offset\n",
    "    n_results = len(previous_results)\n",
    "    \n",
    "    if (n_results + results_per_page) > 1000:\n",
    "        print('Exceeded 1000 api calls. Stopping loop.')\n",
    "        break\n",
    "    \n",
    "    ## use n_results as the OFFSET \n",
    "    results = yelp_api.search_query(location=LOCATION,\n",
    "                                    term=TERM, \n",
    "                                    offset=n_results)\n",
    "    \n",
    "    ## append new results and save to file\n",
    "    previous_results.extend(results['businesses'])\n",
    "    \n",
    "    with open(JSON_FILE,'w') as f:\n",
    "        json.dump(previous_results,f)\n",
    "    \n",
    "    time.sleep(.2)"
   ]
  },
  {
   "cell_type": "code",
   "execution_count": 10,
   "id": "799a1e2e-5c5b-434f-ae1c-f8048b361827",
   "metadata": {},
   "outputs": [
    {
     "data": {
      "text/html": [
       "<div>\n",
       "<style scoped>\n",
       "    .dataframe tbody tr th:only-of-type {\n",
       "        vertical-align: middle;\n",
       "    }\n",
       "\n",
       "    .dataframe tbody tr th {\n",
       "        vertical-align: top;\n",
       "    }\n",
       "\n",
       "    .dataframe thead th {\n",
       "        text-align: right;\n",
       "    }\n",
       "</style>\n",
       "<table border=\"1\" class=\"dataframe\">\n",
       "  <thead>\n",
       "    <tr style=\"text-align: right;\">\n",
       "      <th></th>\n",
       "      <th>id</th>\n",
       "      <th>alias</th>\n",
       "      <th>name</th>\n",
       "      <th>image_url</th>\n",
       "      <th>is_closed</th>\n",
       "      <th>url</th>\n",
       "      <th>review_count</th>\n",
       "      <th>categories</th>\n",
       "      <th>rating</th>\n",
       "      <th>coordinates</th>\n",
       "      <th>transactions</th>\n",
       "      <th>price</th>\n",
       "      <th>location</th>\n",
       "      <th>phone</th>\n",
       "      <th>display_phone</th>\n",
       "      <th>distance</th>\n",
       "    </tr>\n",
       "  </thead>\n",
       "  <tbody>\n",
       "    <tr>\n",
       "      <th>0</th>\n",
       "      <td>16ZnHpuaaBt92XWeJHCC5A</td>\n",
       "      <td>olio-e-più-new-york-7</td>\n",
       "      <td>Olio e Più</td>\n",
       "      <td>https://s3-media4.fl.yelpcdn.com/bphoto/CUpPgz...</td>\n",
       "      <td>False</td>\n",
       "      <td>https://www.yelp.com/biz/olio-e-pi%C3%B9-new-y...</td>\n",
       "      <td>5306</td>\n",
       "      <td>[{'alias': 'pizza', 'title': 'Pizza'}, {'alias...</td>\n",
       "      <td>4.5</td>\n",
       "      <td>{'latitude': 40.733798036104304, 'longitude': ...</td>\n",
       "      <td>[delivery, pickup]</td>\n",
       "      <td>$$</td>\n",
       "      <td>{'address1': '3 Greenwich Ave', 'address2': No...</td>\n",
       "      <td>+12122436546</td>\n",
       "      <td>(212) 243-6546</td>\n",
       "      <td>3186.380498</td>\n",
       "    </tr>\n",
       "    <tr>\n",
       "      <th>1</th>\n",
       "      <td>WG639VkTjmK5dzydd1BBJA</td>\n",
       "      <td>rubirosa-new-york-2</td>\n",
       "      <td>Rubirosa</td>\n",
       "      <td>https://s3-media3.fl.yelpcdn.com/bphoto/l0Phrn...</td>\n",
       "      <td>False</td>\n",
       "      <td>https://www.yelp.com/biz/rubirosa-new-york-2?a...</td>\n",
       "      <td>3287</td>\n",
       "      <td>[{'alias': 'italian', 'title': 'Italian'}, {'a...</td>\n",
       "      <td>4.3</td>\n",
       "      <td>{'latitude': 40.722766, 'longitude': -73.996233}</td>\n",
       "      <td>[pickup]</td>\n",
       "      <td>$$</td>\n",
       "      <td>{'address1': '235 Mulberry St', 'address2': ''...</td>\n",
       "      <td>+12129650500</td>\n",
       "      <td>(212) 965-0500</td>\n",
       "      <td>1932.946770</td>\n",
       "    </tr>\n",
       "    <tr>\n",
       "      <th>2</th>\n",
       "      <td>OCTiJwvjoK81WoDwsTkFvA</td>\n",
       "      <td>paesano-of-mulberry-street-new-york</td>\n",
       "      <td>Paesano of Mulberry Street</td>\n",
       "      <td>https://s3-media2.fl.yelpcdn.com/bphoto/yN9ARC...</td>\n",
       "      <td>False</td>\n",
       "      <td>https://www.yelp.com/biz/paesano-of-mulberry-s...</td>\n",
       "      <td>1496</td>\n",
       "      <td>[{'alias': 'italian', 'title': 'Italian'}, {'a...</td>\n",
       "      <td>4.1</td>\n",
       "      <td>{'latitude': 40.718554, 'longitude': -73.997447}</td>\n",
       "      <td>[delivery, pickup, restaurant_reservation]</td>\n",
       "      <td>$$</td>\n",
       "      <td>{'address1': '136 Mulberry St', 'address2': ''...</td>\n",
       "      <td>+12129651188</td>\n",
       "      <td>(212) 965-1188</td>\n",
       "      <td>1481.706653</td>\n",
       "    </tr>\n",
       "    <tr>\n",
       "      <th>3</th>\n",
       "      <td>HodL0fXoF08C3Ir-kLeTtw</td>\n",
       "      <td>forma-pasta-factory-brooklyn</td>\n",
       "      <td>Forma Pasta Factory</td>\n",
       "      <td>https://s3-media2.fl.yelpcdn.com/bphoto/bFutbq...</td>\n",
       "      <td>False</td>\n",
       "      <td>https://www.yelp.com/biz/forma-pasta-factory-b...</td>\n",
       "      <td>707</td>\n",
       "      <td>[{'alias': 'pastashops', 'title': 'Pasta Shops...</td>\n",
       "      <td>4.7</td>\n",
       "      <td>{'latitude': 40.72371, 'longitude': -73.95157}</td>\n",
       "      <td>[delivery, pickup]</td>\n",
       "      <td>$$</td>\n",
       "      <td>{'address1': '14 Bedford Ave', 'address2': Non...</td>\n",
       "      <td>+17183492009</td>\n",
       "      <td>(718) 349-2009</td>\n",
       "      <td>4141.117802</td>\n",
       "    </tr>\n",
       "    <tr>\n",
       "      <th>4</th>\n",
       "      <td>yXMZSuLJEpNu24yhKey9XA</td>\n",
       "      <td>forma-pasta-factory-brooklyn-3</td>\n",
       "      <td>Forma Pasta Factory</td>\n",
       "      <td>https://s3-media1.fl.yelpcdn.com/bphoto/6LEtDQ...</td>\n",
       "      <td>False</td>\n",
       "      <td>https://www.yelp.com/biz/forma-pasta-factory-b...</td>\n",
       "      <td>172</td>\n",
       "      <td>[{'alias': 'italian', 'title': 'Italian'}, {'a...</td>\n",
       "      <td>4.7</td>\n",
       "      <td>{'latitude': 40.686023409875474, 'longitude': ...</td>\n",
       "      <td>[delivery, pickup]</td>\n",
       "      <td>$$</td>\n",
       "      <td>{'address1': '5 Greene Ave', 'address2': None,...</td>\n",
       "      <td>+13477991333</td>\n",
       "      <td>(347) 799-1333</td>\n",
       "      <td>2800.607052</td>\n",
       "    </tr>\n",
       "  </tbody>\n",
       "</table>\n",
       "</div>"
      ],
      "text/plain": [
       "                       id                                alias  \\\n",
       "0  16ZnHpuaaBt92XWeJHCC5A                olio-e-più-new-york-7   \n",
       "1  WG639VkTjmK5dzydd1BBJA                  rubirosa-new-york-2   \n",
       "2  OCTiJwvjoK81WoDwsTkFvA  paesano-of-mulberry-street-new-york   \n",
       "3  HodL0fXoF08C3Ir-kLeTtw         forma-pasta-factory-brooklyn   \n",
       "4  yXMZSuLJEpNu24yhKey9XA       forma-pasta-factory-brooklyn-3   \n",
       "\n",
       "                         name  \\\n",
       "0                  Olio e Più   \n",
       "1                    Rubirosa   \n",
       "2  Paesano of Mulberry Street   \n",
       "3         Forma Pasta Factory   \n",
       "4         Forma Pasta Factory   \n",
       "\n",
       "                                           image_url  is_closed  \\\n",
       "0  https://s3-media4.fl.yelpcdn.com/bphoto/CUpPgz...      False   \n",
       "1  https://s3-media3.fl.yelpcdn.com/bphoto/l0Phrn...      False   \n",
       "2  https://s3-media2.fl.yelpcdn.com/bphoto/yN9ARC...      False   \n",
       "3  https://s3-media2.fl.yelpcdn.com/bphoto/bFutbq...      False   \n",
       "4  https://s3-media1.fl.yelpcdn.com/bphoto/6LEtDQ...      False   \n",
       "\n",
       "                                                 url  review_count  \\\n",
       "0  https://www.yelp.com/biz/olio-e-pi%C3%B9-new-y...          5306   \n",
       "1  https://www.yelp.com/biz/rubirosa-new-york-2?a...          3287   \n",
       "2  https://www.yelp.com/biz/paesano-of-mulberry-s...          1496   \n",
       "3  https://www.yelp.com/biz/forma-pasta-factory-b...           707   \n",
       "4  https://www.yelp.com/biz/forma-pasta-factory-b...           172   \n",
       "\n",
       "                                          categories  rating  \\\n",
       "0  [{'alias': 'pizza', 'title': 'Pizza'}, {'alias...     4.5   \n",
       "1  [{'alias': 'italian', 'title': 'Italian'}, {'a...     4.3   \n",
       "2  [{'alias': 'italian', 'title': 'Italian'}, {'a...     4.1   \n",
       "3  [{'alias': 'pastashops', 'title': 'Pasta Shops...     4.7   \n",
       "4  [{'alias': 'italian', 'title': 'Italian'}, {'a...     4.7   \n",
       "\n",
       "                                         coordinates  \\\n",
       "0  {'latitude': 40.733798036104304, 'longitude': ...   \n",
       "1   {'latitude': 40.722766, 'longitude': -73.996233}   \n",
       "2   {'latitude': 40.718554, 'longitude': -73.997447}   \n",
       "3     {'latitude': 40.72371, 'longitude': -73.95157}   \n",
       "4  {'latitude': 40.686023409875474, 'longitude': ...   \n",
       "\n",
       "                                 transactions price  \\\n",
       "0                          [delivery, pickup]    $$   \n",
       "1                                    [pickup]    $$   \n",
       "2  [delivery, pickup, restaurant_reservation]    $$   \n",
       "3                          [delivery, pickup]    $$   \n",
       "4                          [delivery, pickup]    $$   \n",
       "\n",
       "                                            location         phone  \\\n",
       "0  {'address1': '3 Greenwich Ave', 'address2': No...  +12122436546   \n",
       "1  {'address1': '235 Mulberry St', 'address2': ''...  +12129650500   \n",
       "2  {'address1': '136 Mulberry St', 'address2': ''...  +12129651188   \n",
       "3  {'address1': '14 Bedford Ave', 'address2': Non...  +17183492009   \n",
       "4  {'address1': '5 Greene Ave', 'address2': None,...  +13477991333   \n",
       "\n",
       "    display_phone     distance  \n",
       "0  (212) 243-6546  3186.380498  \n",
       "1  (212) 965-0500  1932.946770  \n",
       "2  (212) 965-1188  1481.706653  \n",
       "3  (718) 349-2009  4141.117802  \n",
       "4  (347) 799-1333  2800.607052  "
      ]
     },
     "metadata": {},
     "output_type": "display_data"
    },
    {
     "data": {
      "text/html": [
       "<div>\n",
       "<style scoped>\n",
       "    .dataframe tbody tr th:only-of-type {\n",
       "        vertical-align: middle;\n",
       "    }\n",
       "\n",
       "    .dataframe tbody tr th {\n",
       "        vertical-align: top;\n",
       "    }\n",
       "\n",
       "    .dataframe thead th {\n",
       "        text-align: right;\n",
       "    }\n",
       "</style>\n",
       "<table border=\"1\" class=\"dataframe\">\n",
       "  <thead>\n",
       "    <tr style=\"text-align: right;\">\n",
       "      <th></th>\n",
       "      <th>id</th>\n",
       "      <th>alias</th>\n",
       "      <th>name</th>\n",
       "      <th>image_url</th>\n",
       "      <th>is_closed</th>\n",
       "      <th>url</th>\n",
       "      <th>review_count</th>\n",
       "      <th>categories</th>\n",
       "      <th>rating</th>\n",
       "      <th>coordinates</th>\n",
       "      <th>transactions</th>\n",
       "      <th>price</th>\n",
       "      <th>location</th>\n",
       "      <th>phone</th>\n",
       "      <th>display_phone</th>\n",
       "      <th>distance</th>\n",
       "    </tr>\n",
       "  </thead>\n",
       "  <tbody>\n",
       "    <tr>\n",
       "      <th>995</th>\n",
       "      <td>vpkTNjq9dRh9rT3Nh0pe-A</td>\n",
       "      <td>nolita-pizza-new-york-2</td>\n",
       "      <td>Nolita Pizza</td>\n",
       "      <td>https://s3-media2.fl.yelpcdn.com/bphoto/_BKVVo...</td>\n",
       "      <td>False</td>\n",
       "      <td>https://www.yelp.com/biz/nolita-pizza-new-york...</td>\n",
       "      <td>247</td>\n",
       "      <td>[{'alias': 'pizza', 'title': 'Pizza'}, {'alias...</td>\n",
       "      <td>4.6</td>\n",
       "      <td>{'latitude': 40.7208883, 'longitude': -73.9962...</td>\n",
       "      <td>[pickup, delivery]</td>\n",
       "      <td>$</td>\n",
       "      <td>{'address1': '68 Kenmare St', 'address2': None...</td>\n",
       "      <td>+16468959131</td>\n",
       "      <td>(646) 895-9131</td>\n",
       "      <td>1725.054309</td>\n",
       "    </tr>\n",
       "    <tr>\n",
       "      <th>996</th>\n",
       "      <td>t-St6BqNMgecsvICeGgreA</td>\n",
       "      <td>joes-of-avenue-u-brooklyn</td>\n",
       "      <td>Joe's of Avenue U</td>\n",
       "      <td>https://s3-media3.fl.yelpcdn.com/bphoto/tfaTVI...</td>\n",
       "      <td>False</td>\n",
       "      <td>https://www.yelp.com/biz/joes-of-avenue-u-broo...</td>\n",
       "      <td>228</td>\n",
       "      <td>[{'alias': 'sicilian', 'title': 'Sicilian'}, {...</td>\n",
       "      <td>3.9</td>\n",
       "      <td>{'latitude': 40.597072, 'longitude': -73.97367}</td>\n",
       "      <td>[delivery]</td>\n",
       "      <td>$$</td>\n",
       "      <td>{'address1': '287 Avenue U', 'address2': '', '...</td>\n",
       "      <td>+17184499285</td>\n",
       "      <td>(718) 449-9285</td>\n",
       "      <td>12175.446917</td>\n",
       "    </tr>\n",
       "    <tr>\n",
       "      <th>997</th>\n",
       "      <td>auKeIP4_nJuWkBIUcDObvA</td>\n",
       "      <td>wahizza-ridgefield-park</td>\n",
       "      <td>Wahizza</td>\n",
       "      <td>https://s3-media4.fl.yelpcdn.com/bphoto/YUF7D1...</td>\n",
       "      <td>False</td>\n",
       "      <td>https://www.yelp.com/biz/wahizza-ridgefield-pa...</td>\n",
       "      <td>37</td>\n",
       "      <td>[{'alias': 'pizza', 'title': 'Pizza'}, {'alias...</td>\n",
       "      <td>4.6</td>\n",
       "      <td>{'latitude': 40.857423251606264, 'longitude': ...</td>\n",
       "      <td>[pickup, delivery]</td>\n",
       "      <td>NaN</td>\n",
       "      <td>{'address1': '213 Main St', 'address2': None, ...</td>\n",
       "      <td>+12018706059</td>\n",
       "      <td>(201) 870-6059</td>\n",
       "      <td>17092.747276</td>\n",
       "    </tr>\n",
       "    <tr>\n",
       "      <th>998</th>\n",
       "      <td>L0XYugkXpuACPMQ451MB8g</td>\n",
       "      <td>el-mate-brooklyn</td>\n",
       "      <td>El Mate</td>\n",
       "      <td>https://s3-media3.fl.yelpcdn.com/bphoto/1Pq7B-...</td>\n",
       "      <td>False</td>\n",
       "      <td>https://www.yelp.com/biz/el-mate-brooklyn?adju...</td>\n",
       "      <td>361</td>\n",
       "      <td>[{'alias': 'argentine', 'title': 'Argentine'}]</td>\n",
       "      <td>4.6</td>\n",
       "      <td>{'latitude': 40.6749782203506, 'longitude': -7...</td>\n",
       "      <td>[pickup, delivery]</td>\n",
       "      <td>$$</td>\n",
       "      <td>{'address1': '550 Court St', 'address2': '', '...</td>\n",
       "      <td>+17182221102</td>\n",
       "      <td>(718) 222-1102</td>\n",
       "      <td>3416.302173</td>\n",
       "    </tr>\n",
       "    <tr>\n",
       "      <th>999</th>\n",
       "      <td>W0sXHSSpkiMEDJiBmSLNYQ</td>\n",
       "      <td>trestle-astoria</td>\n",
       "      <td>Trestle</td>\n",
       "      <td>https://s3-media2.fl.yelpcdn.com/bphoto/7xXAAf...</td>\n",
       "      <td>False</td>\n",
       "      <td>https://www.yelp.com/biz/trestle-astoria?adjus...</td>\n",
       "      <td>564</td>\n",
       "      <td>[{'alias': 'cocktailbars', 'title': 'Cocktail ...</td>\n",
       "      <td>4.3</td>\n",
       "      <td>{'latitude': 40.7606154, 'longitude': -73.9229...</td>\n",
       "      <td>[pickup, restaurant_reservation, delivery]</td>\n",
       "      <td>$$</td>\n",
       "      <td>{'address1': '34-02 Broadway', 'address2': '',...</td>\n",
       "      <td>+13478080290</td>\n",
       "      <td>(347) 808-0290</td>\n",
       "      <td>8588.574048</td>\n",
       "    </tr>\n",
       "  </tbody>\n",
       "</table>\n",
       "</div>"
      ],
      "text/plain": [
       "                         id                      alias               name  \\\n",
       "995  vpkTNjq9dRh9rT3Nh0pe-A    nolita-pizza-new-york-2       Nolita Pizza   \n",
       "996  t-St6BqNMgecsvICeGgreA  joes-of-avenue-u-brooklyn  Joe's of Avenue U   \n",
       "997  auKeIP4_nJuWkBIUcDObvA    wahizza-ridgefield-park            Wahizza   \n",
       "998  L0XYugkXpuACPMQ451MB8g           el-mate-brooklyn            El Mate   \n",
       "999  W0sXHSSpkiMEDJiBmSLNYQ            trestle-astoria            Trestle   \n",
       "\n",
       "                                             image_url  is_closed  \\\n",
       "995  https://s3-media2.fl.yelpcdn.com/bphoto/_BKVVo...      False   \n",
       "996  https://s3-media3.fl.yelpcdn.com/bphoto/tfaTVI...      False   \n",
       "997  https://s3-media4.fl.yelpcdn.com/bphoto/YUF7D1...      False   \n",
       "998  https://s3-media3.fl.yelpcdn.com/bphoto/1Pq7B-...      False   \n",
       "999  https://s3-media2.fl.yelpcdn.com/bphoto/7xXAAf...      False   \n",
       "\n",
       "                                                   url  review_count  \\\n",
       "995  https://www.yelp.com/biz/nolita-pizza-new-york...           247   \n",
       "996  https://www.yelp.com/biz/joes-of-avenue-u-broo...           228   \n",
       "997  https://www.yelp.com/biz/wahizza-ridgefield-pa...            37   \n",
       "998  https://www.yelp.com/biz/el-mate-brooklyn?adju...           361   \n",
       "999  https://www.yelp.com/biz/trestle-astoria?adjus...           564   \n",
       "\n",
       "                                            categories  rating  \\\n",
       "995  [{'alias': 'pizza', 'title': 'Pizza'}, {'alias...     4.6   \n",
       "996  [{'alias': 'sicilian', 'title': 'Sicilian'}, {...     3.9   \n",
       "997  [{'alias': 'pizza', 'title': 'Pizza'}, {'alias...     4.6   \n",
       "998     [{'alias': 'argentine', 'title': 'Argentine'}]     4.6   \n",
       "999  [{'alias': 'cocktailbars', 'title': 'Cocktail ...     4.3   \n",
       "\n",
       "                                           coordinates  \\\n",
       "995  {'latitude': 40.7208883, 'longitude': -73.9962...   \n",
       "996    {'latitude': 40.597072, 'longitude': -73.97367}   \n",
       "997  {'latitude': 40.857423251606264, 'longitude': ...   \n",
       "998  {'latitude': 40.6749782203506, 'longitude': -7...   \n",
       "999  {'latitude': 40.7606154, 'longitude': -73.9229...   \n",
       "\n",
       "                                   transactions price  \\\n",
       "995                          [pickup, delivery]     $   \n",
       "996                                  [delivery]    $$   \n",
       "997                          [pickup, delivery]   NaN   \n",
       "998                          [pickup, delivery]    $$   \n",
       "999  [pickup, restaurant_reservation, delivery]    $$   \n",
       "\n",
       "                                              location         phone  \\\n",
       "995  {'address1': '68 Kenmare St', 'address2': None...  +16468959131   \n",
       "996  {'address1': '287 Avenue U', 'address2': '', '...  +17184499285   \n",
       "997  {'address1': '213 Main St', 'address2': None, ...  +12018706059   \n",
       "998  {'address1': '550 Court St', 'address2': '', '...  +17182221102   \n",
       "999  {'address1': '34-02 Broadway', 'address2': '',...  +13478080290   \n",
       "\n",
       "      display_phone      distance  \n",
       "995  (646) 895-9131   1725.054309  \n",
       "996  (718) 449-9285  12175.446917  \n",
       "997  (201) 870-6059  17092.747276  \n",
       "998  (718) 222-1102   3416.302173  \n",
       "999  (347) 808-0290   8588.574048  "
      ]
     },
     "metadata": {},
     "output_type": "display_data"
    }
   ],
   "source": [
    "# load final results\n",
    "final_df = pd.read_json(JSON_FILE)\n",
    "display(final_df.head(), final_df.tail())"
   ]
  },
  {
   "cell_type": "code",
   "execution_count": 11,
   "id": "d471ce5b-2101-4460-afad-35414d6a2c8a",
   "metadata": {},
   "outputs": [
    {
     "data": {
      "text/plain": [
       "30"
      ]
     },
     "execution_count": 11,
     "metadata": {},
     "output_type": "execute_result"
    }
   ],
   "source": [
    "# check for duplicate ID's \n",
    "final_df.duplicated(subset='id').sum()"
   ]
  },
  {
   "cell_type": "code",
   "execution_count": 12,
   "id": "27a9cfd3-7a7c-4d57-80a2-3c38ddc9764c",
   "metadata": {},
   "outputs": [
    {
     "data": {
      "text/plain": [
       "0"
      ]
     },
     "execution_count": 12,
     "metadata": {},
     "output_type": "execute_result"
    }
   ],
   "source": [
    "## Drop duplicate ids and confirm there are no more duplicates\n",
    "final_df = final_df.drop_duplicates(subset='id')\n",
    "final_df.duplicated(subset='id').sum()"
   ]
  },
  {
   "cell_type": "code",
   "execution_count": 14,
   "id": "67929335-484c-4905-b2ae-526856c8054b",
   "metadata": {},
   "outputs": [],
   "source": [
    "# save the final results to a compressed csv\n",
    "final_df.to_csv(r\"/Users/kristansimbulan/Documents/GitHub/Working-with-Yelp-API/final_results_NY_pizza.csv.gz\", compression='gzip',index=False)"
   ]
  },
  {
   "cell_type": "code",
   "execution_count": null,
   "id": "ca8d3d5b-189d-45bc-a72a-3232d8b6b4a4",
   "metadata": {},
   "outputs": [],
   "source": []
  }
 ],
 "metadata": {
  "kernelspec": {
   "display_name": "Python (dojo-env)",
   "language": "python",
   "name": "dojo-env"
  },
  "language_info": {
   "codemirror_mode": {
    "name": "ipython",
    "version": 3
   },
   "file_extension": ".py",
   "mimetype": "text/x-python",
   "name": "python",
   "nbconvert_exporter": "python",
   "pygments_lexer": "ipython3",
   "version": "3.10.10"
  }
 },
 "nbformat": 4,
 "nbformat_minor": 5
}
