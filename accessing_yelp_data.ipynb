{
 "cells": [
  {
   "cell_type": "markdown",
   "id": "40188fb2-fb3f-4e5e-878b-c441fda5aa63",
   "metadata": {},
   "source": [
    "# Accessing Yelp API\n",
    "\n",
    "Kristan Bryan Simbulan"
   ]
  },
  {
   "cell_type": "code",
   "execution_count": 3,
   "id": "406e3f5b-bad6-4e00-8daa-93f373ab6739",
   "metadata": {
    "scrolled": true
   },
   "outputs": [
    {
     "name": "stdout",
     "output_type": "stream",
     "text": [
      "Requirement already satisfied: yelpapi in /Users/kristansimbulan/opt/anaconda3/envs/dojo-env/lib/python3.10/site-packages (2.5.1)\n",
      "Requirement already satisfied: requests in /Users/kristansimbulan/opt/anaconda3/envs/dojo-env/lib/python3.10/site-packages (from yelpapi) (2.29.0)\n",
      "Requirement already satisfied: charset-normalizer<4,>=2 in /Users/kristansimbulan/opt/anaconda3/envs/dojo-env/lib/python3.10/site-packages (from requests->yelpapi) (2.0.4)\n",
      "Requirement already satisfied: certifi>=2017.4.17 in /Users/kristansimbulan/opt/anaconda3/envs/dojo-env/lib/python3.10/site-packages (from requests->yelpapi) (2023.5.7)\n",
      "Requirement already satisfied: urllib3<1.27,>=1.21.1 in /Users/kristansimbulan/opt/anaconda3/envs/dojo-env/lib/python3.10/site-packages (from requests->yelpapi) (1.26.15)\n",
      "Requirement already satisfied: idna<4,>=2.5 in /Users/kristansimbulan/opt/anaconda3/envs/dojo-env/lib/python3.10/site-packages (from requests->yelpapi) (3.4)\n"
     ]
    }
   ],
   "source": [
    "# Install Yelp API\n",
    "!pip install yelpapi"
   ]
  },
  {
   "cell_type": "code",
   "execution_count": 4,
   "id": "e3407712-8c7e-42d1-be73-5ef058a0665c",
   "metadata": {},
   "outputs": [],
   "source": [
    "# Import and Load Packages\n",
    "import json\n",
    "from yelpapi import YelpAPI"
   ]
  },
  {
   "cell_type": "code",
   "execution_count": 5,
   "id": "1a9f84a4-146c-4d81-85ef-29ae9b1fdd52",
   "metadata": {},
   "outputs": [
    {
     "data": {
      "text/plain": [
       "dict_keys(['client-id', 'api-key'])"
      ]
     },
     "execution_count": 5,
     "metadata": {},
     "output_type": "execute_result"
    }
   ],
   "source": [
    "# Load API credentials\n",
    "with open('/Users/kristansimbulan/.secret/yelp_api.json') as f: #change the path to match YOUR path!!\n",
    "    login = json.load(f)\n",
    "login.keys()"
   ]
  },
  {
   "cell_type": "code",
   "execution_count": 6,
   "id": "95afb844-78c8-45d5-ac6c-de70304d469e",
   "metadata": {},
   "outputs": [
    {
     "data": {
      "text/plain": [
       "<yelpapi.yelpapi.YelpAPI at 0x10d80fac0>"
      ]
     },
     "execution_count": 6,
     "metadata": {},
     "output_type": "execute_result"
    }
   ],
   "source": [
    "# Instantiate Yelp API variable\n",
    "yelp_api = YelpAPI(login['api-key'], timeout_s=5.0)\n",
    "yelp_api"
   ]
  },
  {
   "cell_type": "code",
   "execution_count": null,
   "id": "7f07d2ee-120a-47a4-8f2b-3230df733385",
   "metadata": {},
   "outputs": [],
   "source": []
  }
 ],
 "metadata": {
  "kernelspec": {
   "display_name": "Python (dojo-env)",
   "language": "python",
   "name": "dojo-env"
  },
  "language_info": {
   "codemirror_mode": {
    "name": "ipython",
    "version": 3
   },
   "file_extension": ".py",
   "mimetype": "text/x-python",
   "name": "python",
   "nbconvert_exporter": "python",
   "pygments_lexer": "ipython3",
   "version": "3.10.10"
  }
 },
 "nbformat": 4,
 "nbformat_minor": 5
}
